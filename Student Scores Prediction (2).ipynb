{
 "cells": [
  {
   "cell_type": "markdown",
   "id": "absolute-patent",
   "metadata": {},
   "source": [
    "# Data Science And Business Analytics(GRIP June'21)\n",
    "## Task 1: Prediction using Supervised ML\n",
    "### Author: Nishchal Mittal\n",
    "#### Problem Statement: \n",
    "#### What will be predicted score if a student studies for 9.25hrs/day?\n",
    "\n",
    "##### (1)Importing all the required Libraries"
   ]
  },
  {
   "cell_type": "code",
   "execution_count": null,
   "id": "fatty-clarity",
   "metadata": {},
   "outputs": [],
   "source": [
    "import numpy as np\n",
    "import pandas as pd\n",
    "import matplotlib.pyplot as plt\n",
    "from sklearn.model_selection import train_test_split\n",
    "from sklearn.linear_model import LinearRegression\n",
    "from sklearn.metrics import mean_squared_error\n",
    "from sklearn.metrics import r2_score"
   ]
  },
  {
   "cell_type": "markdown",
   "id": "laughing-chamber",
   "metadata": {},
   "source": [
    "##### (2) importing data set and vizualizing Data\n"
   ]
  },
  {
   "cell_type": "code",
   "execution_count": null,
   "id": "marked-bryan",
   "metadata": {},
   "outputs": [],
   "source": [
    "df= pd.read_csv('https://raw.githubusercontent.com/AdiPersonalWorks/Random/master/student_scores%20-%20student_scores.csv')\n",
    "print('Data has been successfully imported')\n",
    "df"
   ]
  },
  {
   "cell_type": "markdown",
   "id": "cardiac-connectivity",
   "metadata": {},
   "source": [
    "In our DataFrame, we have data of 25 students whose study hours are given and achieved score by them are given. \n",
    "Now we will plot the data so that we can roughly find what type of relationship is between Hourse and score"
   ]
  },
  {
   "cell_type": "markdown",
   "id": "quantitative-weather",
   "metadata": {},
   "source": [
    "##### (3) Plotting the data"
   ]
  },
  {
   "cell_type": "code",
   "execution_count": null,
   "id": "sunset-consortium",
   "metadata": {},
   "outputs": [],
   "source": [
    "#Using Matplotlib Library\n",
    "df.plot(x='Hours',y='Scores', style='o', color='r')\n",
    "plt.title('Realtion between Hours and Score')\n",
    "plt.xlabel('Hours Studied')\n",
    "plt.ylabel('Precentage Score')\n",
    "plt.show()"
   ]
  },
  {
   "cell_type": "markdown",
   "id": "standing-above",
   "metadata": {},
   "source": [
    "###### as we can clearly observe that it is a positive linear relationship between no. of hours studied and percentage score.\n",
    "#### (4) Preparing Data\n",
    "Now this involves the spilling Dataset into train and test dataset.\n"
   ]
  },
  {
   "cell_type": "code",
   "execution_count": null,
   "id": "other-aquarium",
   "metadata": {},
   "outputs": [],
   "source": [
    "#Using train_test_spilt from scikit-learn library\n",
    "x= df.drop('Scores',axis=1)\n",
    "y= df['Scores']\n",
    "\n",
    "train_x,test_x,train_y,test_y= train_test_split(x,y,test_size=0.2,random_state=123)\n"
   ]
  },
  {
   "cell_type": "markdown",
   "id": "recognized-spirit",
   "metadata": {},
   "source": [
    "#### (5)  Training the Algorithm\n",
    "Now after spilling we do fit the 80% of our data as training data set into the linear regression algorithm\n"
   ]
  },
  {
   "cell_type": "code",
   "execution_count": null,
   "id": "tested-scheduling",
   "metadata": {},
   "outputs": [],
   "source": [
    "lin= LinearRegression()\n",
    "lin.fit(train_x,train_y)\n",
    "\n",
    "print('Fitting the data into Linear Regression algorithm is complete')"
   ]
  },
  {
   "cell_type": "code",
   "execution_count": null,
   "id": "ahead-religion",
   "metadata": {},
   "outputs": [],
   "source": [
    "print('intercept= {},\\\n",
    "slope coefficient={}'.format(lin.intercept_,lin.coef_))"
   ]
  },
  {
   "cell_type": "code",
   "execution_count": null,
   "id": "involved-leone",
   "metadata": {},
   "outputs": [],
   "source": [
    "#the regression line (y= a+bx)\n",
    "line= lin.intercept_+lin.coef_*train_x\n",
    "\n",
    "#Plotting the scatter plot with regression line\n",
    "plt.scatter(train_x,train_y)\n",
    "plt.plot(train_x,line)\n",
    "plt.title('Percentage score of Student based on their study hours(80% randomly chossen)')\n",
    "plt.xlabel('Hours Studied')\n",
    "plt.ylabel('Percentage Scores')\n",
    "plt.show()"
   ]
  },
  {
   "cell_type": "code",
   "execution_count": null,
   "id": "directed-fraud",
   "metadata": {},
   "outputs": [],
   "source": [
    "#Plotting The regression line for Test data\n",
    "line2= line= lin.intercept_+lin.coef_*test_x\n",
    "\n",
    "plt.scatter(test_x,test_y)\n",
    "plt.plot(test_x,line)\n",
    "plt.title('Percentage score of Student based on their study hours(Testing Dataset)')\n",
    "plt.xlabel('Hours Studied')\n",
    "plt.ylabel('Percentage Scores')\n",
    "plt.show()"
   ]
  },
  {
   "cell_type": "markdown",
   "id": "novel-receipt",
   "metadata": {},
   "source": [
    "#### (6) Projection of Percentage Score of Students\n"
   ]
  },
  {
   "cell_type": "code",
   "execution_count": null,
   "id": "scenic-mounting",
   "metadata": {},
   "outputs": [],
   "source": [
    "print(test_x) #Testing_data in hours\n",
    "pred_y=lin.predict(test_x) # projection of scores"
   ]
  },
  {
   "cell_type": "code",
   "execution_count": null,
   "id": "junior-gossip",
   "metadata": {},
   "outputs": [],
   "source": [
    "# Comparing Actual and Predicted \n",
    "\n",
    "df_compare= pd.DataFrame({'Actual':test_y,'Predicted':pred_y})\n",
    "df_compare"
   ]
  },
  {
   "cell_type": "code",
   "execution_count": null,
   "id": "vocational-rally",
   "metadata": {},
   "outputs": [],
   "source": [
    "# using the particular value of Hours Studied\n",
    "hours= [9.25]\n",
    "value=lin.predict([hours])\n",
    "print('For no. of hours {}, predicted score is {}'.format(hours,value))"
   ]
  },
  {
   "cell_type": "markdown",
   "id": "spread-oxford",
   "metadata": {},
   "source": [
    "#### (7) Accuracy of the model\n",
    "The final step is to check for accuracy of the algorithm we have used to project the score on the basis of no. of hours studied by student. This is generally used for comparing between different models of Machine Learning"
   ]
  },
  {
   "cell_type": "code",
   "execution_count": null,
   "id": "raising-carry",
   "metadata": {},
   "outputs": [],
   "source": [
    "print('Mean_squared_error= {}, r2 Score={}'.format(mean_squared_error(test_y,pred_y),r2_score(test_y,pred_y)))"
   ]
  },
  {
   "cell_type": "markdown",
   "id": "chief-driving",
   "metadata": {},
   "source": [
    "#### So we have got  $$R^2 =0.9605 $$ that indicates 96% proportion of the variance for percentage scores is explained by hours studied"
   ]
  }
 ],
 "metadata": {
  "kernelspec": {
   "display_name": "Python 3",
   "language": "python",
   "name": "python3"
  },
  "language_info": {
   "codemirror_mode": {
    "name": "ipython",
    "version": 3
   },
   "file_extension": ".py",
   "mimetype": "text/x-python",
   "name": "python",
   "nbconvert_exporter": "python",
   "pygments_lexer": "ipython3",
   "version": "3.9.0"
  }
 },
 "nbformat": 4,
 "nbformat_minor": 5
}
